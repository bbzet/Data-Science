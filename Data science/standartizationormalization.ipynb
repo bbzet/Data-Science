{
 "cells": [
  {
   "cell_type": "markdown",
   "source": [
    "# Создание dataset для обучения"
   ],
   "metadata": {
    "collapsed": false
   },
   "id": "a15b504115595c72"
  },
  {
   "cell_type": "code",
   "execution_count": 6,
   "id": "initial_id",
   "metadata": {
    "collapsed": true,
    "ExecuteTime": {
     "end_time": "2024-10-11T10:00:54.699731100Z",
     "start_time": "2024-10-11T10:00:54.674624600Z"
    }
   },
   "outputs": [
    {
     "data": {
      "text/plain": "     name   age         city   income\n0    Anna  28.0     New York  50000.0\n1     Bob  35.0  Los Angeles  60000.0\n2    Anna  28.0     New York  50000.0\n3   Diana   NaN      Chicago  70000.0\n4  Edward  42.0         None      NaN\n5     Bob  35.0  Los Angeles  60000.0",
      "text/html": "<div>\n<style scoped>\n    .dataframe tbody tr th:only-of-type {\n        vertical-align: middle;\n    }\n\n    .dataframe tbody tr th {\n        vertical-align: top;\n    }\n\n    .dataframe thead th {\n        text-align: right;\n    }\n</style>\n<table border=\"1\" class=\"dataframe\">\n  <thead>\n    <tr style=\"text-align: right;\">\n      <th></th>\n      <th>name</th>\n      <th>age</th>\n      <th>city</th>\n      <th>income</th>\n    </tr>\n  </thead>\n  <tbody>\n    <tr>\n      <th>0</th>\n      <td>Anna</td>\n      <td>28.0</td>\n      <td>New York</td>\n      <td>50000.0</td>\n    </tr>\n    <tr>\n      <th>1</th>\n      <td>Bob</td>\n      <td>35.0</td>\n      <td>Los Angeles</td>\n      <td>60000.0</td>\n    </tr>\n    <tr>\n      <th>2</th>\n      <td>Anna</td>\n      <td>28.0</td>\n      <td>New York</td>\n      <td>50000.0</td>\n    </tr>\n    <tr>\n      <th>3</th>\n      <td>Diana</td>\n      <td>NaN</td>\n      <td>Chicago</td>\n      <td>70000.0</td>\n    </tr>\n    <tr>\n      <th>4</th>\n      <td>Edward</td>\n      <td>42.0</td>\n      <td>None</td>\n      <td>NaN</td>\n    </tr>\n    <tr>\n      <th>5</th>\n      <td>Bob</td>\n      <td>35.0</td>\n      <td>Los Angeles</td>\n      <td>60000.0</td>\n    </tr>\n  </tbody>\n</table>\n</div>"
     },
     "execution_count": 6,
     "metadata": {},
     "output_type": "execute_result"
    }
   ],
   "source": [
    "import pandas as pd\n",
    "\n",
    "# Данные для задания\n",
    "data = {\n",
    "    'name': ['Anna', 'Bob', 'Anna', 'Diana', 'Edward', 'Bob'],\n",
    "    'age': [28, 35, 28, None, 42, 35],\n",
    "    'city': ['New York', 'Los Angeles', 'New York', 'Chicago', None, 'Los Angeles'],\n",
    "    'income': [50000, 60000, 50000, 70000, None, 60000]\n",
    "}\n",
    "\n",
    "# Создаем DataFrame\n",
    "df = pd.DataFrame(data)\n",
    "\n",
    "df"
   ]
  },
  {
   "cell_type": "markdown",
   "source": [
    "# Подготовка данных для работы "
   ],
   "metadata": {
    "collapsed": false
   },
   "id": "af462b0f671daf2d"
  },
  {
   "cell_type": "code",
   "outputs": [
    {
     "name": "stderr",
     "output_type": "stream",
     "text": [
      "C:\\Users\\ASUS\\AppData\\Local\\Temp\\ipykernel_16140\\2283212789.py:2: FutureWarning: A value is trying to be set on a copy of a DataFrame or Series through chained assignment using an inplace method.\n",
      "The behavior will change in pandas 3.0. This inplace method will never work because the intermediate object on which we are setting values always behaves as a copy.\n",
      "\n",
      "For example, when doing 'df[col].method(value, inplace=True)', try using 'df.method({col: value}, inplace=True)' or df[col] = df[col].method(value) instead, to perform the operation inplace on the original object.\n",
      "\n",
      "\n",
      "  df['age'].fillna(df['age'].mean(), inplace=True) # Заполнение пустых ячеек\n",
      "C:\\Users\\ASUS\\AppData\\Local\\Temp\\ipykernel_16140\\2283212789.py:3: FutureWarning: A value is trying to be set on a copy of a DataFrame or Series through chained assignment using an inplace method.\n",
      "The behavior will change in pandas 3.0. This inplace method will never work because the intermediate object on which we are setting values always behaves as a copy.\n",
      "\n",
      "For example, when doing 'df[col].method(value, inplace=True)', try using 'df.method({col: value}, inplace=True)' or df[col] = df[col].method(value) instead, to perform the operation inplace on the original object.\n",
      "\n",
      "\n",
      "  df['income'].fillna(df['income'].median(), inplace=True)\n",
      "C:\\Users\\ASUS\\AppData\\Local\\Temp\\ipykernel_16140\\2283212789.py:5: FutureWarning: Setting an item of incompatible dtype is deprecated and will raise in a future error of pandas. Value '0    0\n",
      "1    0\n",
      "3    1\n",
      "4    0\n",
      "Name: city_Chicago, dtype: int32' has dtype incompatible with bool, please explicitly cast to a compatible dtype first.\n",
      "  df.iloc[:, 3:] = df.iloc[:, 3:].astype('int')\n",
      "C:\\Users\\ASUS\\AppData\\Local\\Temp\\ipykernel_16140\\2283212789.py:5: FutureWarning: Setting an item of incompatible dtype is deprecated and will raise in a future error of pandas. Value '0    0\n",
      "1    1\n",
      "3    0\n",
      "4    0\n",
      "Name: city_Los Angeles, dtype: int32' has dtype incompatible with bool, please explicitly cast to a compatible dtype first.\n",
      "  df.iloc[:, 3:] = df.iloc[:, 3:].astype('int')\n",
      "C:\\Users\\ASUS\\AppData\\Local\\Temp\\ipykernel_16140\\2283212789.py:5: FutureWarning: Setting an item of incompatible dtype is deprecated and will raise in a future error of pandas. Value '0    1\n",
      "1    0\n",
      "3    0\n",
      "4    0\n",
      "Name: city_New York, dtype: int32' has dtype incompatible with bool, please explicitly cast to a compatible dtype first.\n",
      "  df.iloc[:, 3:] = df.iloc[:, 3:].astype('int')\n"
     ]
    },
    {
     "data": {
      "text/plain": "     name   age   income  city_Chicago  city_Los Angeles  city_New York\n0    Anna  28.0  50000.0             0                 0              1\n1     Bob  35.0  60000.0             0                 1              0\n3   Diana  35.0  70000.0             1                 0              0\n4  Edward  42.0  60000.0             0                 0              0",
      "text/html": "<div>\n<style scoped>\n    .dataframe tbody tr th:only-of-type {\n        vertical-align: middle;\n    }\n\n    .dataframe tbody tr th {\n        vertical-align: top;\n    }\n\n    .dataframe thead th {\n        text-align: right;\n    }\n</style>\n<table border=\"1\" class=\"dataframe\">\n  <thead>\n    <tr style=\"text-align: right;\">\n      <th></th>\n      <th>name</th>\n      <th>age</th>\n      <th>income</th>\n      <th>city_Chicago</th>\n      <th>city_Los Angeles</th>\n      <th>city_New York</th>\n    </tr>\n  </thead>\n  <tbody>\n    <tr>\n      <th>0</th>\n      <td>Anna</td>\n      <td>28.0</td>\n      <td>50000.0</td>\n      <td>0</td>\n      <td>0</td>\n      <td>1</td>\n    </tr>\n    <tr>\n      <th>1</th>\n      <td>Bob</td>\n      <td>35.0</td>\n      <td>60000.0</td>\n      <td>0</td>\n      <td>1</td>\n      <td>0</td>\n    </tr>\n    <tr>\n      <th>3</th>\n      <td>Diana</td>\n      <td>35.0</td>\n      <td>70000.0</td>\n      <td>1</td>\n      <td>0</td>\n      <td>0</td>\n    </tr>\n    <tr>\n      <th>4</th>\n      <td>Edward</td>\n      <td>42.0</td>\n      <td>60000.0</td>\n      <td>0</td>\n      <td>0</td>\n      <td>0</td>\n    </tr>\n  </tbody>\n</table>\n</div>"
     },
     "execution_count": 7,
     "metadata": {},
     "output_type": "execute_result"
    }
   ],
   "source": [
    "df.drop_duplicates(inplace=True) # Удаление дубликатов\n",
    "df['age'].fillna(df['age'].mean(), inplace=True) # Заполнение пустых ячеек\n",
    "df['income'].fillna(df['income'].median(), inplace=True)\n",
    "df = pd.get_dummies(df, columns=['city'], drop_first=False) # One-Hot-Encoding превращение категориальных данных в числовые чтобы работыть с ними \n",
    "df.iloc[:, 3:] = df.iloc[:, 3:].astype('int') \n",
    "df"
   ],
   "metadata": {
    "collapsed": false,
    "ExecuteTime": {
     "end_time": "2024-10-11T10:00:57.264576300Z",
     "start_time": "2024-10-11T10:00:57.238111400Z"
    }
   },
   "id": "cd6560084e22768d",
   "execution_count": 7
  },
  {
   "cell_type": "markdown",
   "source": [
    "# Нормализация \n",
    "normalized value = x - min(x) / (max(x) - min(x))"
   ],
   "metadata": {
    "collapsed": false
   },
   "id": "5524e703f79d073a"
  },
  {
   "cell_type": "code",
   "outputs": [
    {
     "data": {
      "text/plain": "     name   age   income  city_Chicago  city_Los Angeles  city_New York\n0    Anna  28.0  50000.0             0                 0              1\n1     Bob  35.0  60000.0             0                 1              0\n3   Diana  35.0  70000.0             1                 0              0\n4  Edward  42.0  60000.0             0                 0              0",
      "text/html": "<div>\n<style scoped>\n    .dataframe tbody tr th:only-of-type {\n        vertical-align: middle;\n    }\n\n    .dataframe tbody tr th {\n        vertical-align: top;\n    }\n\n    .dataframe thead th {\n        text-align: right;\n    }\n</style>\n<table border=\"1\" class=\"dataframe\">\n  <thead>\n    <tr style=\"text-align: right;\">\n      <th></th>\n      <th>name</th>\n      <th>age</th>\n      <th>income</th>\n      <th>city_Chicago</th>\n      <th>city_Los Angeles</th>\n      <th>city_New York</th>\n    </tr>\n  </thead>\n  <tbody>\n    <tr>\n      <th>0</th>\n      <td>Anna</td>\n      <td>28.0</td>\n      <td>50000.0</td>\n      <td>0</td>\n      <td>0</td>\n      <td>1</td>\n    </tr>\n    <tr>\n      <th>1</th>\n      <td>Bob</td>\n      <td>35.0</td>\n      <td>60000.0</td>\n      <td>0</td>\n      <td>1</td>\n      <td>0</td>\n    </tr>\n    <tr>\n      <th>3</th>\n      <td>Diana</td>\n      <td>35.0</td>\n      <td>70000.0</td>\n      <td>1</td>\n      <td>0</td>\n      <td>0</td>\n    </tr>\n    <tr>\n      <th>4</th>\n      <td>Edward</td>\n      <td>42.0</td>\n      <td>60000.0</td>\n      <td>0</td>\n      <td>0</td>\n      <td>0</td>\n    </tr>\n  </tbody>\n</table>\n</div>"
     },
     "execution_count": 8,
     "metadata": {},
     "output_type": "execute_result"
    }
   ],
   "source": [
    "df"
   ],
   "metadata": {
    "collapsed": false,
    "ExecuteTime": {
     "end_time": "2024-10-11T10:01:01.195235900Z",
     "start_time": "2024-10-11T10:01:01.164165800Z"
    }
   },
   "id": "4e07fc49e5d68700",
   "execution_count": 8
  },
  {
   "cell_type": "code",
   "outputs": [
    {
     "data": {
      "text/plain": "     name  age  income  city_Chicago  city_Los Angeles  city_New York\n0    Anna  0.0     0.0             0                 0              1\n1     Bob  0.5     0.5             0                 1              0\n3   Diana  0.5     1.0             1                 0              0\n4  Edward  1.0     0.5             0                 0              0",
      "text/html": "<div>\n<style scoped>\n    .dataframe tbody tr th:only-of-type {\n        vertical-align: middle;\n    }\n\n    .dataframe tbody tr th {\n        vertical-align: top;\n    }\n\n    .dataframe thead th {\n        text-align: right;\n    }\n</style>\n<table border=\"1\" class=\"dataframe\">\n  <thead>\n    <tr style=\"text-align: right;\">\n      <th></th>\n      <th>name</th>\n      <th>age</th>\n      <th>income</th>\n      <th>city_Chicago</th>\n      <th>city_Los Angeles</th>\n      <th>city_New York</th>\n    </tr>\n  </thead>\n  <tbody>\n    <tr>\n      <th>0</th>\n      <td>Anna</td>\n      <td>0.0</td>\n      <td>0.0</td>\n      <td>0</td>\n      <td>0</td>\n      <td>1</td>\n    </tr>\n    <tr>\n      <th>1</th>\n      <td>Bob</td>\n      <td>0.5</td>\n      <td>0.5</td>\n      <td>0</td>\n      <td>1</td>\n      <td>0</td>\n    </tr>\n    <tr>\n      <th>3</th>\n      <td>Diana</td>\n      <td>0.5</td>\n      <td>1.0</td>\n      <td>1</td>\n      <td>0</td>\n      <td>0</td>\n    </tr>\n    <tr>\n      <th>4</th>\n      <td>Edward</td>\n      <td>1.0</td>\n      <td>0.5</td>\n      <td>0</td>\n      <td>0</td>\n      <td>0</td>\n    </tr>\n  </tbody>\n</table>\n</div>"
     },
     "execution_count": 9,
     "metadata": {},
     "output_type": "execute_result"
    }
   ],
   "source": [
    "from sklearn.preprocessing import MinMaxScaler, StandardScaler\n",
    "\n",
    "scaler = MinMaxScaler()\n",
    "df[['age', 'income']] = scaler.fit_transform(df[['age', 'income']])\n",
    "df"
   ],
   "metadata": {
    "collapsed": false,
    "ExecuteTime": {
     "end_time": "2024-10-11T10:02:01.377633200Z",
     "start_time": "2024-10-11T10:02:01.304911800Z"
    }
   },
   "id": "5292bb2abf984f25",
   "execution_count": 9
  },
  {
   "cell_type": "markdown",
   "source": [
    "# Стандартизация\n",
    "standard value = x - x.mean()/std(x)"
   ],
   "metadata": {
    "collapsed": false
   },
   "id": "2cdd849030cc2e72"
  },
  {
   "cell_type": "code",
   "outputs": [
    {
     "data": {
      "text/plain": "     name       age    income  city_Chicago  city_Los Angeles  city_New York\n0    Anna -1.414214 -1.414214             0                 0              1\n1     Bob  0.000000  0.000000             0                 1              0\n3   Diana  0.000000  1.414214             1                 0              0\n4  Edward  1.414214  0.000000             0                 0              0",
      "text/html": "<div>\n<style scoped>\n    .dataframe tbody tr th:only-of-type {\n        vertical-align: middle;\n    }\n\n    .dataframe tbody tr th {\n        vertical-align: top;\n    }\n\n    .dataframe thead th {\n        text-align: right;\n    }\n</style>\n<table border=\"1\" class=\"dataframe\">\n  <thead>\n    <tr style=\"text-align: right;\">\n      <th></th>\n      <th>name</th>\n      <th>age</th>\n      <th>income</th>\n      <th>city_Chicago</th>\n      <th>city_Los Angeles</th>\n      <th>city_New York</th>\n    </tr>\n  </thead>\n  <tbody>\n    <tr>\n      <th>0</th>\n      <td>Anna</td>\n      <td>-1.414214</td>\n      <td>-1.414214</td>\n      <td>0</td>\n      <td>0</td>\n      <td>1</td>\n    </tr>\n    <tr>\n      <th>1</th>\n      <td>Bob</td>\n      <td>0.000000</td>\n      <td>0.000000</td>\n      <td>0</td>\n      <td>1</td>\n      <td>0</td>\n    </tr>\n    <tr>\n      <th>3</th>\n      <td>Diana</td>\n      <td>0.000000</td>\n      <td>1.414214</td>\n      <td>1</td>\n      <td>0</td>\n      <td>0</td>\n    </tr>\n    <tr>\n      <th>4</th>\n      <td>Edward</td>\n      <td>1.414214</td>\n      <td>0.000000</td>\n      <td>0</td>\n      <td>0</td>\n      <td>0</td>\n    </tr>\n  </tbody>\n</table>\n</div>"
     },
     "execution_count": 10,
     "metadata": {},
     "output_type": "execute_result"
    }
   ],
   "source": [
    "standard_scaler = StandardScaler()\n",
    "df[['age', 'income']] = standard_scaler.fit_transform(df[['age', 'income']])\n",
    "df"
   ],
   "metadata": {
    "collapsed": false,
    "ExecuteTime": {
     "end_time": "2024-10-11T10:02:09.483808500Z",
     "start_time": "2024-10-11T10:02:09.455524700Z"
    }
   },
   "id": "5244956ab6e5c34e",
   "execution_count": 10
  },
  {
   "cell_type": "markdown",
   "source": [],
   "metadata": {
    "collapsed": false
   },
   "id": "6e69c555050978be"
  }
 ],
 "metadata": {
  "kernelspec": {
   "display_name": "Python 3",
   "language": "python",
   "name": "python3"
  },
  "language_info": {
   "codemirror_mode": {
    "name": "ipython",
    "version": 2
   },
   "file_extension": ".py",
   "mimetype": "text/x-python",
   "name": "python",
   "nbconvert_exporter": "python",
   "pygments_lexer": "ipython2",
   "version": "2.7.6"
  }
 },
 "nbformat": 4,
 "nbformat_minor": 5
}
